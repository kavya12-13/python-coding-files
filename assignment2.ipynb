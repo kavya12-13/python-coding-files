{
  "cells": [
    {
      "cell_type": "markdown",
      "id": "44f888cb",
      "metadata": {
        "id": "44f888cb"
      },
      "source": [
        "<a href=\"https://www.viharatech.com\"><img src=\"https://miro.medium.com/v2/resize:fit:828/format:webp/1*on2Bpj6A5gfd-CzaFOAZRA.jpeg\"></a>\n",
        "\n",
        "\n",
        "- `Welcome to our interactive learning session! In this Jupyter notebook, you'll find a series of questions related to Python Concept. To maximize your learning, please write Python code in the cell below each question and execute it. This hands-on practice will help reinforce your understanding of the concepts. Feel free to reach out if you have any questions or need assistance. Happy coding! 💻🐍 `"
      ]
    },
    {
      "cell_type": "raw",
      "id": "144f8dd9",
      "metadata": {
        "id": "144f8dd9"
      },
      "source": [
        "1 . Print the input text without vowels\n",
        "\n",
        "input = 'hai'\n",
        "\n",
        "Expected output = h"
      ]
    },
    {
      "cell_type": "code",
      "execution_count": null,
      "id": "cf1f9ca7",
      "metadata": {
        "id": "cf1f9ca7",
        "outputId": "8ff5966f-4b75-4285-b76c-b780dae82a08",
        "colab": {
          "base_uri": "https://localhost:8080/"
        }
      },
      "outputs": [
        {
          "output_type": "stream",
          "name": "stdout",
          "text": [
            "result-> h\n",
            "Wlcm t r ntrctv lrnng sssn!"
          ]
        }
      ],
      "source": [
        "input = 'hai'\n",
        "vowels = ['A','E','I','O','U','a','e','i','o','u']\n",
        "for i in input:\n",
        "  if i not in vowels:\n",
        "    print(f'result->',i)\n",
        "a = \"Welcome to our interactive learning session!\"\n",
        "for i in a:\n",
        "  if i not in  vowels:\n",
        "    print(i,end=\"\")\n"
      ]
    },
    {
      "cell_type": "raw",
      "id": "9f0cbac6",
      "metadata": {
        "id": "9f0cbac6"
      },
      "source": [
        "2 . Print only vowels from the text\n",
        "\n",
        "input = data\n",
        "\n",
        "Expected output = aa"
      ]
    },
    {
      "cell_type": "code",
      "execution_count": null,
      "id": "a6c81c61",
      "metadata": {
        "id": "a6c81c61",
        "colab": {
          "base_uri": "https://localhost:8080/"
        },
        "outputId": "ab7bf1e2-69f5-467a-8866-9b723ad08d84"
      },
      "outputs": [
        {
          "output_type": "stream",
          "name": "stdout",
          "text": [
            "a\n",
            "a\n",
            "iaoaieieeioeouueaioeoe"
          ]
        }
      ],
      "source": [
        "input = \"data\"\n",
        "vowels = ['A','E','I','O','U','a','e','i','o','u']\n",
        "for i in input:\n",
        "  if i in vowels:\n",
        "    print(i)\n",
        "a='This hands-on practice will help reinforce your understanding of the concepts'\n",
        "for i in a:\n",
        "  if i in vowels:\n",
        "    print(i,end=\"\")"
      ]
    },
    {
      "cell_type": "raw",
      "id": "6cbfe6e1",
      "metadata": {
        "id": "6cbfe6e1"
      },
      "source": [
        "3 . print each value from the list with its index\n",
        "\n",
        "\n",
        "input = [10,11,50,34]\n",
        "\n",
        "Expected output = [100 , 111 , 502 , 343]"
      ]
    },
    {
      "cell_type": "code",
      "execution_count": null,
      "id": "d92cb8a3",
      "metadata": {
        "id": "d92cb8a3",
        "colab": {
          "base_uri": "https://localhost:8080/"
        },
        "outputId": "994e22cc-1959-4e1e-cc69-12e939476057"
      },
      "outputs": [
        {
          "output_type": "stream",
          "name": "stdout",
          "text": [
            "['100', '111', '502', '343']\n"
          ]
        }
      ],
      "source": [
        "a = [10,11,50,34]\n",
        "b=[]\n",
        "for i in range(0,len(a)):\n",
        "  b.append(f'{a[i]}{i}')\n",
        "print(b)\n"
      ]
    },
    {
      "cell_type": "raw",
      "id": "de670ddc",
      "metadata": {
        "id": "de670ddc"
      },
      "source": [
        "4 . This is a Python Program to print all integers that aren’t divisible by either 2 or 3 and lies between 1 and 50."
      ]
    },
    {
      "cell_type": "code",
      "execution_count": null,
      "id": "bf365d80",
      "metadata": {
        "id": "bf365d80",
        "colab": {
          "base_uri": "https://localhost:8080/"
        },
        "outputId": "99b655ed-1749-4490-9067-86fde3175765"
      },
      "outputs": [
        {
          "output_type": "stream",
          "name": "stdout",
          "text": [
            "1 5 7 11 13 17 19 23 25 29 31 35 37 41 43 47 49 "
          ]
        }
      ],
      "source": [
        "for i in range(1,50):\n",
        "  if i%2!=0 and i%3!=0:\n",
        "    print(i,end=\" \")\n",
        "\n",
        "\n"
      ]
    },
    {
      "cell_type": "raw",
      "id": "9f9b54af",
      "metadata": {
        "id": "9f9b54af"
      },
      "source": [
        "5 . The program takes in an integer and prints the smallest divisor of the integer."
      ]
    },
    {
      "cell_type": "code",
      "execution_count": null,
      "id": "087e8e4b",
      "metadata": {
        "id": "087e8e4b",
        "colab": {
          "base_uri": "https://localhost:8080/"
        },
        "outputId": "396e767e-7fbe-469f-f805-a4745820de2f"
      },
      "outputs": [
        {
          "output_type": "execute_result",
          "data": {
            "text/plain": [
              "3"
            ]
          },
          "metadata": {},
          "execution_count": 51
        }
      ],
      "source": [
        "def num(n):\n",
        "  for i in range(2,n+1):\n",
        "    if n%i==0:\n",
        "      return i\n",
        "num(81)\n",
        "\n",
        "\n"
      ]
    },
    {
      "cell_type": "raw",
      "id": "fe7c7e96",
      "metadata": {
        "id": "fe7c7e96"
      },
      "source": [
        "6 . Write a Python program to check if it is a strong number or not ."
      ]
    },
    {
      "cell_type": "code",
      "execution_count": null,
      "id": "746703b2",
      "metadata": {
        "id": "746703b2",
        "colab": {
          "base_uri": "https://localhost:8080/"
        },
        "outputId": "eeb0209e-b8f7-4b15-8b40-eea25bb7907d"
      },
      "outputs": [
        {
          "output_type": "stream",
          "name": "stdout",
          "text": [
            "it is not a strong number\n"
          ]
        }
      ],
      "source": [
        " def num(n):\n",
        "  temp = n\n",
        "  s=0\n",
        "  while n>0:\n",
        "    r=n%10\n",
        "    c=1\n",
        "    for i in range(1,r+1):\n",
        "     c= c*i\n",
        "    s =s+c\n",
        "    n=n//10\n",
        "  if temp == s:\n",
        "        print(\"it is a strong number\")\n",
        "  else:\n",
        "        print(\"it is not a strong number\")\n",
        "num(250)\n"
      ]
    },
    {
      "cell_type": "raw",
      "id": "6fccfd65",
      "metadata": {
        "id": "6fccfd65"
      },
      "source": [
        "7 . Write a Python program that takes input from the user and displays that input back in upper and lower cases."
      ]
    },
    {
      "cell_type": "code",
      "source": [
        "a=\"Python is a high-level, general-purpose programming language.\"\n",
        "print(a.upper())\n",
        "print(a.lower())"
      ],
      "metadata": {
        "colab": {
          "base_uri": "https://localhost:8080/"
        },
        "id": "ziW2PV0_X2k_",
        "outputId": "60aeb5a2-b63b-47fb-cfe2-247b8ae8662d"
      },
      "id": "ziW2PV0_X2k_",
      "execution_count": null,
      "outputs": [
        {
          "output_type": "stream",
          "name": "stdout",
          "text": [
            "PYTHON IS A HIGH-LEVEL, GENERAL-PURPOSE PROGRAMMING LANGUAGE.\n",
            "python is a high-level, general-purpose programming language.\n"
          ]
        }
      ]
    },
    {
      "cell_type": "raw",
      "id": "8e92ebb5",
      "metadata": {
        "id": "8e92ebb5"
      },
      "source": [
        "8 . Write a Python program to remove spaces from a given string\n",
        "\n",
        "- input = united states\n",
        "- output = unitedstates"
      ]
    },
    {
      "cell_type": "code",
      "execution_count": null,
      "id": "5d8f2f1b",
      "metadata": {
        "id": "5d8f2f1b",
        "colab": {
          "base_uri": "https://localhost:8080/"
        },
        "outputId": "62dc21d5-b3e5-4a2d-c96e-3aa73bbab0c7"
      },
      "outputs": [
        {
          "output_type": "stream",
          "name": "stdout",
          "text": [
            "unitedstates\n"
          ]
        }
      ],
      "source": [
        "\n",
        "input = 'united states'\n",
        "a=input.split()\n",
        "\n",
        "print(\"\".join(a))\n"
      ]
    },
    {
      "cell_type": "code",
      "source": [
        "a=\"Python is a high-level, general-purpose programming language.\"\n",
        "print(a.replace(' ',''))"
      ],
      "metadata": {
        "colab": {
          "base_uri": "https://localhost:8080/"
        },
        "id": "QCHCm2ZEaACn",
        "outputId": "4b9d1616-3ff2-43d7-ebe2-7e3c4749ecaf"
      },
      "id": "QCHCm2ZEaACn",
      "execution_count": null,
      "outputs": [
        {
          "output_type": "stream",
          "name": "stdout",
          "text": [
            "Pythonisahigh-level,general-purposeprogramminglanguage.\n"
          ]
        }
      ]
    },
    {
      "cell_type": "raw",
      "id": "0b1bc8da",
      "metadata": {
        "id": "0b1bc8da"
      },
      "source": [
        "9 . Write a Python program to capitalize first and last letters of each word of a given string."
      ]
    },
    {
      "cell_type": "code",
      "execution_count": null,
      "id": "0642e4ef",
      "metadata": {
        "id": "0642e4ef"
      },
      "outputs": [],
      "source": []
    },
    {
      "cell_type": "raw",
      "id": "77b5cd36",
      "metadata": {
        "id": "77b5cd36"
      },
      "source": [
        "10 . write a python program to find length of a string but should not use len keyword"
      ]
    },
    {
      "cell_type": "code",
      "execution_count": null,
      "id": "4926f802",
      "metadata": {
        "id": "4926f802",
        "colab": {
          "base_uri": "https://localhost:8080/"
        },
        "outputId": "4eeecf51-03d4-4368-d377-946d446c3294"
      },
      "outputs": [
        {
          "output_type": "stream",
          "name": "stdout",
          "text": [
            "14\n"
          ]
        }
      ],
      "source": [
        "a = \"python program\"\n",
        "c=0\n",
        "for i in a:\n",
        "  c=c+1\n",
        "print(c)"
      ]
    }
  ],
  "metadata": {
    "kernelspec": {
      "display_name": "Python 3 (ipykernel)",
      "language": "python",
      "name": "python3"
    },
    "language_info": {
      "codemirror_mode": {
        "name": "ipython",
        "version": 3
      },
      "file_extension": ".py",
      "mimetype": "text/x-python",
      "name": "python",
      "nbconvert_exporter": "python",
      "pygments_lexer": "ipython3",
      "version": "3.11.5"
    },
    "colab": {
      "provenance": []
    }
  },
  "nbformat": 4,
  "nbformat_minor": 5
}